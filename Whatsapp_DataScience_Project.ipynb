{
 "cells": [
  {
   "cell_type": "code",
   "execution_count": 1,
   "metadata": {},
   "outputs": [],
   "source": [
    "import os\n",
    "import matplotlib.pyplot as plt\n",
    "import seaborn \n",
    "import pandas as pd\n"
   ]
  },
  {
   "cell_type": "code",
   "execution_count": 2,
   "metadata": {},
   "outputs": [],
   "source": [
    "with open('WhatsApp Chat with मेरे प्यारे  ब्रोsdike.txt' , encoding=\"utf-8\") as f:\n",
    "    file=f.readlines()"
   ]
  },
  {
   "cell_type": "code",
   "execution_count": 3,
   "metadata": {},
   "outputs": [],
   "source": [
    "headers=['Date_Time','User','Message']"
   ]
  },
  {
   "cell_type": "code",
   "execution_count": 4,
   "metadata": {},
   "outputs": [],
   "source": [
    "def parse_value(line):\n",
    "    line_data=[]\n",
    "    \n",
    "    if line.strip()[:2].isnumeric():\n",
    "            pos1=line.strip().index(\"-\",0)\n",
    "            date=line.strip()[0:pos1].strip()\n",
    "            line_data.append(date)\n",
    "            try:\n",
    "                pos2=line.strip().index(\":\",pos1)\n",
    "                user=line.strip()[pos1+1:pos2].strip()\n",
    "                line_data.append(user)\n",
    "            except ValueError:\n",
    "                    line_data.append(\"Group notification\")\n",
    "                    pos2=pos1\n",
    "    else:\n",
    "        line_data.append(\"Nan\")\n",
    "        line_data.append(\"Nan\")\n",
    "        pos2=-1\n",
    "           \n",
    "    message=line.strip()[pos2+1:].strip()\n",
    "    line_data.append(message)\n",
    "    \n",
    "    return line_data\n",
    "        \n",
    "        \n",
    "        "
   ]
  },
  {
   "cell_type": "code",
   "execution_count": 5,
   "metadata": {},
   "outputs": [],
   "source": [
    "def create_dict(line):\n",
    "    line_data_dict={}\n",
    "    for header,value in zip(headers,parse_value(line)):\n",
    "        line_data_dict[header]=value\n",
    "    return line_data_dict"
   ]
  },
  {
   "cell_type": "code",
   "execution_count": 6,
   "metadata": {},
   "outputs": [],
   "source": [
    "def list_of_dictfile(file):\n",
    "    result_file=[]\n",
    "    for line in file:\n",
    "        if not line[0]==\"\\n\":\n",
    "                dict_item=create_dict(line)\n",
    "                result_file.append(dict_item)\n",
    "    return result_file"
   ]
  },
  {
   "cell_type": "code",
   "execution_count": 7,
   "metadata": {},
   "outputs": [],
   "source": [
    "result_file=list_of_dictfile(file)"
   ]
  },
  {
   "cell_type": "code",
   "execution_count": 8,
   "metadata": {},
   "outputs": [],
   "source": [
    "\n",
    "file_df=pd.DataFrame(result_file)"
   ]
  },
  {
   "cell_type": "code",
   "execution_count": 9,
   "metadata": {},
   "outputs": [
    {
     "data": {
      "text/html": [
       "<div>\n",
       "<style scoped>\n",
       "    .dataframe tbody tr th:only-of-type {\n",
       "        vertical-align: middle;\n",
       "    }\n",
       "\n",
       "    .dataframe tbody tr th {\n",
       "        vertical-align: top;\n",
       "    }\n",
       "\n",
       "    .dataframe thead th {\n",
       "        text-align: right;\n",
       "    }\n",
       "</style>\n",
       "<table border=\"1\" class=\"dataframe\">\n",
       "  <thead>\n",
       "    <tr style=\"text-align: right;\">\n",
       "      <th></th>\n",
       "      <th>Date_Time</th>\n",
       "      <th>User</th>\n",
       "      <th>Message</th>\n",
       "    </tr>\n",
       "  </thead>\n",
       "  <tbody>\n",
       "    <tr>\n",
       "      <th>0</th>\n",
       "      <td>28/08/20, 9:22 pm</td>\n",
       "      <td>Group notification</td>\n",
       "      <td>Messages and calls are end-to-end encrypted. N...</td>\n",
       "    </tr>\n",
       "    <tr>\n",
       "      <th>1</th>\n",
       "      <td>21/04/20, 3:02 pm</td>\n",
       "      <td>Group notification</td>\n",
       "      <td>+91 93157 41581 created group \"मेरे प्यारे  ब्...</td>\n",
       "    </tr>\n",
       "    <tr>\n",
       "      <th>2</th>\n",
       "      <td>21/04/20, 3:02 pm</td>\n",
       "      <td>Group notification</td>\n",
       "      <td>You were added</td>\n",
       "    </tr>\n",
       "    <tr>\n",
       "      <th>3</th>\n",
       "      <td>30/08/20, 5:50 am</td>\n",
       "      <td>Mohit Dudi</td>\n",
       "      <td>&lt;Media omitted&gt;</td>\n",
       "    </tr>\n",
       "    <tr>\n",
       "      <th>4</th>\n",
       "      <td>30/08/20, 5:51 am</td>\n",
       "      <td>Mohit Dudi</td>\n",
       "      <td>Iska b kr lo kch</td>\n",
       "    </tr>\n",
       "    <tr>\n",
       "      <th>5</th>\n",
       "      <td>30/08/20, 6:48 am</td>\n",
       "      <td>LK Meena</td>\n",
       "      <td>देखकर आश्चर्य हुआ कि इस दौड़ में पतंजली कैसे पी...</td>\n",
       "    </tr>\n",
       "    <tr>\n",
       "      <th>6</th>\n",
       "      <td>30/08/20, 8:40 am</td>\n",
       "      <td>+91 6350 436 235</td>\n",
       "      <td>देखकर आश्चर्य हुआ कि इतनी बड़ी खबर को कोने में...</td>\n",
       "    </tr>\n",
       "    <tr>\n",
       "      <th>7</th>\n",
       "      <td>Nan</td>\n",
       "      <td>Nan</td>\n",
       "      <td>#modi_ne_media_ki_gaand_maar_rkhi_hai</td>\n",
       "    </tr>\n",
       "    <tr>\n",
       "      <th>8</th>\n",
       "      <td>30/08/20, 8:42 am</td>\n",
       "      <td>Aynjaney</td>\n",
       "      <td>Yes bhai Ye baat v h</td>\n",
       "    </tr>\n",
       "    <tr>\n",
       "      <th>9</th>\n",
       "      <td>30/08/20, 8:42 am</td>\n",
       "      <td>Mohit Dudi</td>\n",
       "      <td>👌</td>\n",
       "    </tr>\n",
       "  </tbody>\n",
       "</table>\n",
       "</div>"
      ],
      "text/plain": [
       "           Date_Time                User  \\\n",
       "0  28/08/20, 9:22 pm  Group notification   \n",
       "1  21/04/20, 3:02 pm  Group notification   \n",
       "2  21/04/20, 3:02 pm  Group notification   \n",
       "3  30/08/20, 5:50 am          Mohit Dudi   \n",
       "4  30/08/20, 5:51 am          Mohit Dudi   \n",
       "5  30/08/20, 6:48 am            LK Meena   \n",
       "6  30/08/20, 8:40 am    +91 6350 436 235   \n",
       "7                Nan                 Nan   \n",
       "8  30/08/20, 8:42 am            Aynjaney   \n",
       "9  30/08/20, 8:42 am          Mohit Dudi   \n",
       "\n",
       "                                             Message  \n",
       "0  Messages and calls are end-to-end encrypted. N...  \n",
       "1  +91 93157 41581 created group \"मेरे प्यारे  ब्...  \n",
       "2                                     You were added  \n",
       "3                                    <Media omitted>  \n",
       "4                                   Iska b kr lo kch  \n",
       "5  देखकर आश्चर्य हुआ कि इस दौड़ में पतंजली कैसे पी...  \n",
       "6  देखकर आश्चर्य हुआ कि इतनी बड़ी खबर को कोने में...  \n",
       "7              #modi_ne_media_ki_gaand_maar_rkhi_hai  \n",
       "8                               Yes bhai Ye baat v h  \n",
       "9                                                  👌  "
      ]
     },
     "execution_count": 9,
     "metadata": {},
     "output_type": "execute_result"
    }
   ],
   "source": [
    "file_df.head(10)"
   ]
  },
  {
   "cell_type": "code",
   "execution_count": 10,
   "metadata": {},
   "outputs": [],
   "source": [
    "file_df.drop(index=file_df.Message[file_df.Message==\"<Media omitted>\"].index,inplace=True)\n"
   ]
  },
  {
   "cell_type": "code",
   "execution_count": 11,
   "metadata": {},
   "outputs": [],
   "source": [
    "for index in file_df.Date_Time.index:\n",
    "    if(file_df.Date_Time[index]==\"Nan\"):\n",
    "        file_df.Date_Time[index]=file_df.Date_Time[index-1]\n",
    "        file_df.User[index]=file_df.User[index-1]"
   ]
  },
  {
   "cell_type": "code",
   "execution_count": 12,
   "metadata": {},
   "outputs": [
    {
     "data": {
      "text/html": [
       "<div>\n",
       "<style scoped>\n",
       "    .dataframe tbody tr th:only-of-type {\n",
       "        vertical-align: middle;\n",
       "    }\n",
       "\n",
       "    .dataframe tbody tr th {\n",
       "        vertical-align: top;\n",
       "    }\n",
       "\n",
       "    .dataframe thead th {\n",
       "        text-align: right;\n",
       "    }\n",
       "</style>\n",
       "<table border=\"1\" class=\"dataframe\">\n",
       "  <thead>\n",
       "    <tr style=\"text-align: right;\">\n",
       "      <th></th>\n",
       "      <th>Date_Time</th>\n",
       "      <th>User</th>\n",
       "      <th>Message</th>\n",
       "    </tr>\n",
       "  </thead>\n",
       "  <tbody>\n",
       "    <tr>\n",
       "      <th>0</th>\n",
       "      <td>28/08/20, 9:22 pm</td>\n",
       "      <td>Group notification</td>\n",
       "      <td>Messages and calls are end-to-end encrypted. N...</td>\n",
       "    </tr>\n",
       "    <tr>\n",
       "      <th>1</th>\n",
       "      <td>21/04/20, 3:02 pm</td>\n",
       "      <td>Group notification</td>\n",
       "      <td>+91 93157 41581 created group \"मेरे प्यारे  ब्...</td>\n",
       "    </tr>\n",
       "    <tr>\n",
       "      <th>2</th>\n",
       "      <td>21/04/20, 3:02 pm</td>\n",
       "      <td>Group notification</td>\n",
       "      <td>You were added</td>\n",
       "    </tr>\n",
       "    <tr>\n",
       "      <th>4</th>\n",
       "      <td>30/08/20, 5:51 am</td>\n",
       "      <td>Mohit Dudi</td>\n",
       "      <td>Iska b kr lo kch</td>\n",
       "    </tr>\n",
       "    <tr>\n",
       "      <th>5</th>\n",
       "      <td>30/08/20, 6:48 am</td>\n",
       "      <td>LK Meena</td>\n",
       "      <td>देखकर आश्चर्य हुआ कि इस दौड़ में पतंजली कैसे पी...</td>\n",
       "    </tr>\n",
       "    <tr>\n",
       "      <th>6</th>\n",
       "      <td>30/08/20, 8:40 am</td>\n",
       "      <td>+91 6350 436 235</td>\n",
       "      <td>देखकर आश्चर्य हुआ कि इतनी बड़ी खबर को कोने में...</td>\n",
       "    </tr>\n",
       "    <tr>\n",
       "      <th>7</th>\n",
       "      <td>30/08/20, 8:40 am</td>\n",
       "      <td>+91 6350 436 235</td>\n",
       "      <td>#modi_ne_media_ki_gaand_maar_rkhi_hai</td>\n",
       "    </tr>\n",
       "    <tr>\n",
       "      <th>8</th>\n",
       "      <td>30/08/20, 8:42 am</td>\n",
       "      <td>Aynjaney</td>\n",
       "      <td>Yes bhai Ye baat v h</td>\n",
       "    </tr>\n",
       "    <tr>\n",
       "      <th>9</th>\n",
       "      <td>30/08/20, 8:42 am</td>\n",
       "      <td>Mohit Dudi</td>\n",
       "      <td>👌</td>\n",
       "    </tr>\n",
       "    <tr>\n",
       "      <th>10</th>\n",
       "      <td>30/08/20, 8:42 am</td>\n",
       "      <td>Aynjaney</td>\n",
       "      <td>Or Train Ko jaldi jaldi privatised kre bekar k...</td>\n",
       "    </tr>\n",
       "    <tr>\n",
       "      <th>11</th>\n",
       "      <td>30/08/20, 8:43 am</td>\n",
       "      <td>Mohit Dudi</td>\n",
       "      <td>🙄🙄🙄</td>\n",
       "    </tr>\n",
       "    <tr>\n",
       "      <th>12</th>\n",
       "      <td>30/08/20, 8:43 am</td>\n",
       "      <td>Mohit Dudi</td>\n",
       "      <td>🙄🙄🙄🙄</td>\n",
       "    </tr>\n",
       "    <tr>\n",
       "      <th>14</th>\n",
       "      <td>30/08/20, 8:43 am</td>\n",
       "      <td>Aynjaney</td>\n",
       "      <td>Han Bhaii ...espe research kro ....</td>\n",
       "    </tr>\n",
       "    <tr>\n",
       "      <th>15</th>\n",
       "      <td>30/08/20, 8:43 am</td>\n",
       "      <td>Aynjaney</td>\n",
       "      <td>😂</td>\n",
       "    </tr>\n",
       "    <tr>\n",
       "      <th>16</th>\n",
       "      <td>30/08/20, 8:47 am</td>\n",
       "      <td>+91 6350 436 235</td>\n",
       "      <td>मोदीजी अभी मोर के साथ फोटोशूट कराने में व्यस्त...</td>\n",
       "    </tr>\n",
       "    <tr>\n",
       "      <th>17</th>\n",
       "      <td>30/08/20, 8:51 am</td>\n",
       "      <td>Mohit Dudi</td>\n",
       "      <td>Pihu piuu krenge baad m sb</td>\n",
       "    </tr>\n",
       "    <tr>\n",
       "      <th>18</th>\n",
       "      <td>30/08/20, 8:52 am</td>\n",
       "      <td>Aynjaney</td>\n",
       "      <td>Ye v ho skta h ...bhai</td>\n",
       "    </tr>\n",
       "    <tr>\n",
       "      <th>19</th>\n",
       "      <td>30/08/20, 8:55 am</td>\n",
       "      <td>+91 93157 41581</td>\n",
       "      <td>मैं आरक्षण आंदोलन के लिए ट्रेन जला दूं तो खर्च...</td>\n",
       "    </tr>\n",
       "    <tr>\n",
       "      <th>20</th>\n",
       "      <td>30/08/20, 8:56 am</td>\n",
       "      <td>Aynjaney</td>\n",
       "      <td>Smjhdar nagrik ho to aisi baate Dimag me nahi ...</td>\n",
       "    </tr>\n",
       "    <tr>\n",
       "      <th>21</th>\n",
       "      <td>30/08/20, 8:56 am</td>\n",
       "      <td>Aynjaney</td>\n",
       "      <td>Jala ke dekho ...UP me</td>\n",
       "    </tr>\n",
       "  </tbody>\n",
       "</table>\n",
       "</div>"
      ],
      "text/plain": [
       "            Date_Time                User  \\\n",
       "0   28/08/20, 9:22 pm  Group notification   \n",
       "1   21/04/20, 3:02 pm  Group notification   \n",
       "2   21/04/20, 3:02 pm  Group notification   \n",
       "4   30/08/20, 5:51 am          Mohit Dudi   \n",
       "5   30/08/20, 6:48 am            LK Meena   \n",
       "6   30/08/20, 8:40 am    +91 6350 436 235   \n",
       "7   30/08/20, 8:40 am    +91 6350 436 235   \n",
       "8   30/08/20, 8:42 am            Aynjaney   \n",
       "9   30/08/20, 8:42 am          Mohit Dudi   \n",
       "10  30/08/20, 8:42 am            Aynjaney   \n",
       "11  30/08/20, 8:43 am          Mohit Dudi   \n",
       "12  30/08/20, 8:43 am          Mohit Dudi   \n",
       "14  30/08/20, 8:43 am            Aynjaney   \n",
       "15  30/08/20, 8:43 am            Aynjaney   \n",
       "16  30/08/20, 8:47 am    +91 6350 436 235   \n",
       "17  30/08/20, 8:51 am          Mohit Dudi   \n",
       "18  30/08/20, 8:52 am            Aynjaney   \n",
       "19  30/08/20, 8:55 am     +91 93157 41581   \n",
       "20  30/08/20, 8:56 am            Aynjaney   \n",
       "21  30/08/20, 8:56 am            Aynjaney   \n",
       "\n",
       "                                              Message  \n",
       "0   Messages and calls are end-to-end encrypted. N...  \n",
       "1   +91 93157 41581 created group \"मेरे प्यारे  ब्...  \n",
       "2                                      You were added  \n",
       "4                                    Iska b kr lo kch  \n",
       "5   देखकर आश्चर्य हुआ कि इस दौड़ में पतंजली कैसे पी...  \n",
       "6   देखकर आश्चर्य हुआ कि इतनी बड़ी खबर को कोने में...  \n",
       "7               #modi_ne_media_ki_gaand_maar_rkhi_hai  \n",
       "8                                Yes bhai Ye baat v h  \n",
       "9                                                   👌  \n",
       "10  Or Train Ko jaldi jaldi privatised kre bekar k...  \n",
       "11                                                🙄🙄🙄  \n",
       "12                                               🙄🙄🙄🙄  \n",
       "14                Han Bhaii ...espe research kro ....  \n",
       "15                                                  😂  \n",
       "16  मोदीजी अभी मोर के साथ फोटोशूट कराने में व्यस्त...  \n",
       "17                         Pihu piuu krenge baad m sb  \n",
       "18                             Ye v ho skta h ...bhai  \n",
       "19  मैं आरक्षण आंदोलन के लिए ट्रेन जला दूं तो खर्च...  \n",
       "20  Smjhdar nagrik ho to aisi baate Dimag me nahi ...  \n",
       "21                             Jala ke dekho ...UP me  "
      ]
     },
     "execution_count": 12,
     "metadata": {},
     "output_type": "execute_result"
    }
   ],
   "source": [
    "file_df.head(20)"
   ]
  },
  {
   "cell_type": "code",
   "execution_count": 13,
   "metadata": {},
   "outputs": [],
   "source": [
    "file_df.to_csv('Whatsapp_DataScience_Project.csv')"
   ]
  },
  {
   "cell_type": "code",
   "execution_count": 14,
   "metadata": {},
   "outputs": [],
   "source": [
    "file_df['Date_Time']=pd.to_datetime(file_df.Date_Time)"
   ]
  },
  {
   "cell_type": "code",
   "execution_count": 15,
   "metadata": {},
   "outputs": [
    {
     "data": {
      "text/plain": [
       "0       4\n",
       "1       1\n",
       "2       1\n",
       "4       6\n",
       "5       6\n",
       "       ..\n",
       "1850    1\n",
       "1851    1\n",
       "1852    1\n",
       "1853    3\n",
       "1854    1\n",
       "Name: Date_Time, Length: 1678, dtype: int64"
      ]
     },
     "execution_count": 15,
     "metadata": {},
     "output_type": "execute_result"
    }
   ],
   "source": [
    "file_df.Date_Time.dt.weekday"
   ]
  },
  {
   "cell_type": "code",
   "execution_count": 16,
   "metadata": {},
   "outputs": [],
   "source": [
    "file_df['Month']=file_df['Date_Time'].apply(lambda x: x.month_name())\n",
    "file_df['weekday']=file_df['Date_Time'].apply(lambda x: x.day_name())\n",
    "file_df['Hour']=file_df.Date_Time.dt.hour"
   ]
  },
  {
   "cell_type": "code",
   "execution_count": 17,
   "metadata": {},
   "outputs": [
    {
     "data": {
      "text/html": [
       "<div>\n",
       "<style scoped>\n",
       "    .dataframe tbody tr th:only-of-type {\n",
       "        vertical-align: middle;\n",
       "    }\n",
       "\n",
       "    .dataframe tbody tr th {\n",
       "        vertical-align: top;\n",
       "    }\n",
       "\n",
       "    .dataframe thead th {\n",
       "        text-align: right;\n",
       "    }\n",
       "</style>\n",
       "<table border=\"1\" class=\"dataframe\">\n",
       "  <thead>\n",
       "    <tr style=\"text-align: right;\">\n",
       "      <th></th>\n",
       "      <th>Date_Time</th>\n",
       "      <th>User</th>\n",
       "      <th>Message</th>\n",
       "      <th>Month</th>\n",
       "      <th>weekday</th>\n",
       "      <th>Hour</th>\n",
       "    </tr>\n",
       "  </thead>\n",
       "  <tbody>\n",
       "    <tr>\n",
       "      <th>0</th>\n",
       "      <td>2020-08-28 21:22:00</td>\n",
       "      <td>Group notification</td>\n",
       "      <td>Messages and calls are end-to-end encrypted. N...</td>\n",
       "      <td>August</td>\n",
       "      <td>Friday</td>\n",
       "      <td>21</td>\n",
       "    </tr>\n",
       "    <tr>\n",
       "      <th>1</th>\n",
       "      <td>2020-04-21 15:02:00</td>\n",
       "      <td>Group notification</td>\n",
       "      <td>+91 93157 41581 created group \"मेरे प्यारे  ब्...</td>\n",
       "      <td>April</td>\n",
       "      <td>Tuesday</td>\n",
       "      <td>15</td>\n",
       "    </tr>\n",
       "    <tr>\n",
       "      <th>2</th>\n",
       "      <td>2020-04-21 15:02:00</td>\n",
       "      <td>Group notification</td>\n",
       "      <td>You were added</td>\n",
       "      <td>April</td>\n",
       "      <td>Tuesday</td>\n",
       "      <td>15</td>\n",
       "    </tr>\n",
       "    <tr>\n",
       "      <th>4</th>\n",
       "      <td>2020-08-30 05:51:00</td>\n",
       "      <td>Mohit Dudi</td>\n",
       "      <td>Iska b kr lo kch</td>\n",
       "      <td>August</td>\n",
       "      <td>Sunday</td>\n",
       "      <td>5</td>\n",
       "    </tr>\n",
       "    <tr>\n",
       "      <th>5</th>\n",
       "      <td>2020-08-30 06:48:00</td>\n",
       "      <td>LK Meena</td>\n",
       "      <td>देखकर आश्चर्य हुआ कि इस दौड़ में पतंजली कैसे पी...</td>\n",
       "      <td>August</td>\n",
       "      <td>Sunday</td>\n",
       "      <td>6</td>\n",
       "    </tr>\n",
       "    <tr>\n",
       "      <th>...</th>\n",
       "      <td>...</td>\n",
       "      <td>...</td>\n",
       "      <td>...</td>\n",
       "      <td>...</td>\n",
       "      <td>...</td>\n",
       "      <td>...</td>\n",
       "    </tr>\n",
       "    <tr>\n",
       "      <th>1850</th>\n",
       "      <td>2021-09-07 13:34:00</td>\n",
       "      <td>Ashok Babu</td>\n",
       "      <td>HD content dekhta hai bhai AP singh</td>\n",
       "      <td>September</td>\n",
       "      <td>Tuesday</td>\n",
       "      <td>13</td>\n",
       "    </tr>\n",
       "    <tr>\n",
       "      <th>1851</th>\n",
       "      <td>2021-09-07 13:34:00</td>\n",
       "      <td>Mohit Dudi</td>\n",
       "      <td>😂😂😂</td>\n",
       "      <td>September</td>\n",
       "      <td>Tuesday</td>\n",
       "      <td>13</td>\n",
       "    </tr>\n",
       "    <tr>\n",
       "      <th>1852</th>\n",
       "      <td>2021-09-07 13:41:00</td>\n",
       "      <td>Puneet</td>\n",
       "      <td>Ohh bete 😂😂</td>\n",
       "      <td>September</td>\n",
       "      <td>Tuesday</td>\n",
       "      <td>13</td>\n",
       "    </tr>\n",
       "    <tr>\n",
       "      <th>1853</th>\n",
       "      <td>2021-10-07 22:59:00</td>\n",
       "      <td>Group notification</td>\n",
       "      <td>Your security code with Ashok Babu changed. Ta...</td>\n",
       "      <td>October</td>\n",
       "      <td>Thursday</td>\n",
       "      <td>22</td>\n",
       "    </tr>\n",
       "    <tr>\n",
       "      <th>1854</th>\n",
       "      <td>2021-12-07 05:12:00</td>\n",
       "      <td>Group notification</td>\n",
       "      <td>+91 72069 40856 left</td>\n",
       "      <td>December</td>\n",
       "      <td>Tuesday</td>\n",
       "      <td>5</td>\n",
       "    </tr>\n",
       "  </tbody>\n",
       "</table>\n",
       "<p>1678 rows × 6 columns</p>\n",
       "</div>"
      ],
      "text/plain": [
       "               Date_Time                User  \\\n",
       "0    2020-08-28 21:22:00  Group notification   \n",
       "1    2020-04-21 15:02:00  Group notification   \n",
       "2    2020-04-21 15:02:00  Group notification   \n",
       "4    2020-08-30 05:51:00          Mohit Dudi   \n",
       "5    2020-08-30 06:48:00            LK Meena   \n",
       "...                  ...                 ...   \n",
       "1850 2021-09-07 13:34:00          Ashok Babu   \n",
       "1851 2021-09-07 13:34:00          Mohit Dudi   \n",
       "1852 2021-09-07 13:41:00              Puneet   \n",
       "1853 2021-10-07 22:59:00  Group notification   \n",
       "1854 2021-12-07 05:12:00  Group notification   \n",
       "\n",
       "                                                Message      Month   weekday  \\\n",
       "0     Messages and calls are end-to-end encrypted. N...     August    Friday   \n",
       "1     +91 93157 41581 created group \"मेरे प्यारे  ब्...      April   Tuesday   \n",
       "2                                        You were added      April   Tuesday   \n",
       "4                                      Iska b kr lo kch     August    Sunday   \n",
       "5     देखकर आश्चर्य हुआ कि इस दौड़ में पतंजली कैसे पी...     August    Sunday   \n",
       "...                                                 ...        ...       ...   \n",
       "1850                HD content dekhta hai bhai AP singh  September   Tuesday   \n",
       "1851                                                😂😂😂  September   Tuesday   \n",
       "1852                                        Ohh bete 😂😂  September   Tuesday   \n",
       "1853  Your security code with Ashok Babu changed. Ta...    October  Thursday   \n",
       "1854                               +91 72069 40856 left   December   Tuesday   \n",
       "\n",
       "      Hour  \n",
       "0       21  \n",
       "1       15  \n",
       "2       15  \n",
       "4        5  \n",
       "5        6  \n",
       "...    ...  \n",
       "1850    13  \n",
       "1851    13  \n",
       "1852    13  \n",
       "1853    22  \n",
       "1854     5  \n",
       "\n",
       "[1678 rows x 6 columns]"
      ]
     },
     "execution_count": 17,
     "metadata": {},
     "output_type": "execute_result"
    }
   ],
   "source": [
    "file_df"
   ]
  },
  {
   "cell_type": "code",
   "execution_count": 18,
   "metadata": {},
   "outputs": [
    {
     "data": {
      "text/plain": [
       "<AxesSubplot:xlabel='User', ylabel='count'>"
      ]
     },
     "execution_count": 18,
     "metadata": {},
     "output_type": "execute_result"
    },
    {
     "data": {
      "image/png": "[encoded data removed]",
      "text/plain": [
       "<Figure size 2160x720 with 1 Axes>"
      ]
     },
     "metadata": {
      "needs_background": "light"
     },
     "output_type": "display_data"
    }
   ],
   "source": [
    "plt.figure(figsize=(30,10))\n",
    "seaborn.countplot(x=\"User\", hue=\"weekday\", data=file_df)"
   ]
  },
  {
   "cell_type": "code",
   "execution_count": 19,
   "metadata": {},
   "outputs": [
    {
     "data": {
      "text/plain": [
       "<AxesSubplot:xlabel='User', ylabel='count'>"
      ]
     },
     "execution_count": 19,
     "metadata": {},
     "output_type": "execute_result"
    },
    {
     "data": {
      "image/png": "[encoded data removed]",
      "text/plain": [
       "<Figure size 2160x720 with 1 Axes>"
      ]
     },
     "metadata": {
      "needs_background": "light"
     },
     "output_type": "display_data"
    }
   ],
   "source": [
    "plt.figure(figsize=(30,10))\n",
    "seaborn.countplot(x=\"User\", hue=\"Hour\", data=file_df)"
   ]
  },
  {
   "cell_type": "markdown",
   "metadata": {},
   "source": [
    "### most active user"
   ]
  },
  {
   "cell_type": "code",
   "execution_count": 20,
   "metadata": {},
   "outputs": [],
   "source": [
    "user_data = file_df.groupby(\"User\")[\"Message\"].count().sort_values(ascending=True)\n",
    "user_name=user_data.index\n",
    "message_per_user=user_data"
   ]
  },
  {
   "cell_type": "code",
   "execution_count": 21,
   "metadata": {},
   "outputs": [
    {
     "data": {
      "text/plain": [
       "User\n",
       "Group notification     16\n",
       "Ashok Babu             38\n",
       "Ajay Meena             50\n",
       "+91 6350 436 235       60\n",
       "+91 72069 40856        64\n",
       "+91 93157 41581        66\n",
       "Sunny Kr               68\n",
       "Ashwani Uddan          97\n",
       "Sudhir Bhai           119\n",
       "@rnv ¢hndn            124\n",
       "Puneet                128\n",
       "Aynjaney              244\n",
       "Mohit Dudi            283\n",
       "LK Meena              321\n",
       "Name: Message, dtype: int64"
      ]
     },
     "execution_count": 21,
     "metadata": {},
     "output_type": "execute_result"
    }
   ],
   "source": [
    "message_per_user"
   ]
  },
  {
   "cell_type": "code",
   "execution_count": 22,
   "metadata": {},
   "outputs": [
    {
     "ename": "KeyError",
     "evalue": "'Day'",
     "output_type": "error",
     "traceback": [
      "\u001b[1;31m---------------------------------------------------------------------------\u001b[0m",
      "\u001b[1;31mKeyError\u001b[0m                                  Traceback (most recent call last)",
      "\u001b[1;32m<ipython-input-22-14356ea91fb7>\u001b[0m in \u001b[0;36m<module>\u001b[1;34m\u001b[0m\n\u001b[0;32m      7\u001b[0m \u001b[0mweekday_df\u001b[0m \u001b[1;33m=\u001b[0m \u001b[0mpd\u001b[0m\u001b[1;33m.\u001b[0m\u001b[0mDataFrame\u001b[0m\u001b[1;33m(\u001b[0m\u001b[0mindex\u001b[0m\u001b[1;33m=\u001b[0m\u001b[0mnumpy\u001b[0m\u001b[1;33m.\u001b[0m\u001b[0marange\u001b[0m\u001b[1;33m(\u001b[0m\u001b[1;36m0\u001b[0m\u001b[1;33m,\u001b[0m\u001b[1;36m7\u001b[0m\u001b[1;33m)\u001b[0m\u001b[1;33m)\u001b[0m\u001b[1;33m\u001b[0m\u001b[1;33m\u001b[0m\u001b[0m\n\u001b[0;32m      8\u001b[0m \u001b[1;32mfor\u001b[0m \u001b[0mname\u001b[0m \u001b[1;32min\u001b[0m \u001b[0muser_name\u001b[0m\u001b[1;33m:\u001b[0m\u001b[1;33m\u001b[0m\u001b[1;33m\u001b[0m\u001b[0m\n\u001b[1;32m----> 9\u001b[1;33m     \u001b[0mweekday_df\u001b[0m\u001b[1;33m[\u001b[0m\u001b[0mname\u001b[0m\u001b[1;33m]\u001b[0m\u001b[1;33m=\u001b[0m\u001b[0mfile_df\u001b[0m\u001b[1;33m[\u001b[0m\u001b[1;33m(\u001b[0m\u001b[0mfile_df\u001b[0m\u001b[1;33m.\u001b[0m\u001b[0mUser\u001b[0m\u001b[1;33m==\u001b[0m\u001b[0mname\u001b[0m\u001b[1;33m)\u001b[0m\u001b[1;33m]\u001b[0m\u001b[1;33m.\u001b[0m\u001b[0mgroupby\u001b[0m\u001b[1;33m(\u001b[0m\u001b[1;34m'Day'\u001b[0m\u001b[1;33m)\u001b[0m\u001b[1;33m.\u001b[0m\u001b[0msize\u001b[0m\u001b[1;33m(\u001b[0m\u001b[1;33m)\u001b[0m\u001b[1;33m.\u001b[0m\u001b[0msort_index\u001b[0m\u001b[1;33m(\u001b[0m\u001b[1;33m)\u001b[0m\u001b[1;33m\u001b[0m\u001b[1;33m\u001b[0m\u001b[0m\n\u001b[0m",
      "\u001b[1;32m~\\AppData\\Roaming\\Python\\Python39\\site-packages\\pandas\\core\\frame.py\u001b[0m in \u001b[0;36mgroupby\u001b[1;34m(self, by, axis, level, as_index, sort, group_keys, squeeze, observed, dropna)\u001b[0m\n\u001b[0;32m   7624\u001b[0m         \u001b[1;31m# error: Argument \"squeeze\" to \"DataFrameGroupBy\" has incompatible type\u001b[0m\u001b[1;33m\u001b[0m\u001b[1;33m\u001b[0m\u001b[1;33m\u001b[0m\u001b[0m\n\u001b[0;32m   7625\u001b[0m         \u001b[1;31m# \"Union[bool, NoDefault]\"; expected \"bool\"\u001b[0m\u001b[1;33m\u001b[0m\u001b[1;33m\u001b[0m\u001b[1;33m\u001b[0m\u001b[0m\n\u001b[1;32m-> 7626\u001b[1;33m         return DataFrameGroupBy(\n\u001b[0m\u001b[0;32m   7627\u001b[0m             \u001b[0mobj\u001b[0m\u001b[1;33m=\u001b[0m\u001b[0mself\u001b[0m\u001b[1;33m,\u001b[0m\u001b[1;33m\u001b[0m\u001b[1;33m\u001b[0m\u001b[0m\n\u001b[0;32m   7628\u001b[0m             \u001b[0mkeys\u001b[0m\u001b[1;33m=\u001b[0m\u001b[0mby\u001b[0m\u001b[1;33m,\u001b[0m\u001b[1;33m\u001b[0m\u001b[1;33m\u001b[0m\u001b[0m\n",
      "\u001b[1;32m~\\AppData\\Roaming\\Python\\Python39\\site-packages\\pandas\\core\\groupby\\groupby.py\u001b[0m in \u001b[0;36m__init__\u001b[1;34m(self, obj, keys, axis, level, grouper, exclusions, selection, as_index, sort, group_keys, squeeze, observed, mutated, dropna)\u001b[0m\n\u001b[0;32m    886\u001b[0m             \u001b[1;32mfrom\u001b[0m \u001b[0mpandas\u001b[0m\u001b[1;33m.\u001b[0m\u001b[0mcore\u001b[0m\u001b[1;33m.\u001b[0m\u001b[0mgroupby\u001b[0m\u001b[1;33m.\u001b[0m\u001b[0mgrouper\u001b[0m \u001b[1;32mimport\u001b[0m \u001b[0mget_grouper\u001b[0m\u001b[1;33m\u001b[0m\u001b[1;33m\u001b[0m\u001b[0m\n\u001b[0;32m    887\u001b[0m \u001b[1;33m\u001b[0m\u001b[0m\n\u001b[1;32m--> 888\u001b[1;33m             grouper, exclusions, obj = get_grouper(\n\u001b[0m\u001b[0;32m    889\u001b[0m                 \u001b[0mobj\u001b[0m\u001b[1;33m,\u001b[0m\u001b[1;33m\u001b[0m\u001b[1;33m\u001b[0m\u001b[0m\n\u001b[0;32m    890\u001b[0m                 \u001b[0mkeys\u001b[0m\u001b[1;33m,\u001b[0m\u001b[1;33m\u001b[0m\u001b[1;33m\u001b[0m\u001b[0m\n",
      "\u001b[1;32m~\\AppData\\Roaming\\Python\\Python39\\site-packages\\pandas\\core\\groupby\\grouper.py\u001b[0m in \u001b[0;36mget_grouper\u001b[1;34m(obj, key, axis, level, sort, observed, mutated, validate, dropna)\u001b[0m\n\u001b[0;32m    858\u001b[0m                 \u001b[0min_axis\u001b[0m\u001b[1;33m,\u001b[0m \u001b[0mlevel\u001b[0m\u001b[1;33m,\u001b[0m \u001b[0mgpr\u001b[0m \u001b[1;33m=\u001b[0m \u001b[1;32mFalse\u001b[0m\u001b[1;33m,\u001b[0m \u001b[0mgpr\u001b[0m\u001b[1;33m,\u001b[0m \u001b[1;32mNone\u001b[0m\u001b[1;33m\u001b[0m\u001b[1;33m\u001b[0m\u001b[0m\n\u001b[0;32m    859\u001b[0m             \u001b[1;32melse\u001b[0m\u001b[1;33m:\u001b[0m\u001b[1;33m\u001b[0m\u001b[1;33m\u001b[0m\u001b[0m\n\u001b[1;32m--> 860\u001b[1;33m                 \u001b[1;32mraise\u001b[0m \u001b[0mKeyError\u001b[0m\u001b[1;33m(\u001b[0m\u001b[0mgpr\u001b[0m\u001b[1;33m)\u001b[0m\u001b[1;33m\u001b[0m\u001b[1;33m\u001b[0m\u001b[0m\n\u001b[0m\u001b[0;32m    861\u001b[0m         \u001b[1;32melif\u001b[0m \u001b[0misinstance\u001b[0m\u001b[1;33m(\u001b[0m\u001b[0mgpr\u001b[0m\u001b[1;33m,\u001b[0m \u001b[0mGrouper\u001b[0m\u001b[1;33m)\u001b[0m \u001b[1;32mand\u001b[0m \u001b[0mgpr\u001b[0m\u001b[1;33m.\u001b[0m\u001b[0mkey\u001b[0m \u001b[1;32mis\u001b[0m \u001b[1;32mnot\u001b[0m \u001b[1;32mNone\u001b[0m\u001b[1;33m:\u001b[0m\u001b[1;33m\u001b[0m\u001b[1;33m\u001b[0m\u001b[0m\n\u001b[0;32m    862\u001b[0m             \u001b[1;31m# Add key to exclusions\u001b[0m\u001b[1;33m\u001b[0m\u001b[1;33m\u001b[0m\u001b[1;33m\u001b[0m\u001b[0m\n",
      "\u001b[1;31mKeyError\u001b[0m: 'Day'"
     ]
    }
   ],
   "source": [
    "import numpy\n",
    "hour_df = pd.DataFrame(index=numpy.arange(0,24))\n",
    "\n",
    "for name in user_name:\n",
    "    hour_df[name]=file_df[(file_df.User==name)].groupby('Hour').size().sort_index()\n",
    "    \n",
    "weekday_df = pd.DataFrame(index=numpy.arange(0,7))\n",
    "for name in user_name:\n",
    "    weekday_df[name]=file_df[(file_df.User==name)].groupby('Day').size().sort_index()    "
   ]
  },
  {
   "cell_type": "code",
   "execution_count": null,
   "metadata": {},
   "outputs": [],
   "source": [
    "weekday_df"
   ]
  },
  {
   "cell_type": "code",
   "execution_count": null,
   "metadata": {},
   "outputs": [],
   "source": [
    "file_df.groupby('Hour')[[]]"
   ]
  },
  {
   "cell_type": "markdown",
   "metadata": {},
   "source": [
    "#Emoji"
   ]
  },
  {
   "cell_type": "code",
   "execution_count": null,
   "metadata": {},
   "outputs": [],
   "source": [
    "\n",
    "plt.style.use('fivethirtyeight')\n",
    "\n",
    "fig, axes = plt.subplots(3, 2, figsize=(16, 30))\n",
    "axes[0,0].hist(file_df['Month'],bins=12,edgecolor='yellow')\n",
    "axes[0,0].set_title('Distrinution of Messages')\n",
    "axes[0,0].set_xlabel('Months')\n",
    "axes[0,0].set_ylabel('No. of Messages')\n",
    "\n",
    "axes[0,1].hist(file_df['Day'],bins=7,edgecolor='yellow')\n",
    "axes[0,1].set_title('Distrinution of Messages')\n",
    "axes[0,1].set_xlabel('Day')\n",
    "axes[0,1].set_ylabel('No. of Messages')\n",
    "\n",
    "axes[1,0].barh(user_name,message_per_user,color='y')\n",
    "axes[1,0].set_title(\"Most Active User\")\n",
    "axes[1,0].set_xlabel('message_per_User')\n",
    "axes[1,0].set_ylabel('User')\n",
    "\n",
    "axes[1,1].hist(chandan,bins=24,edgecolor='yellow')\n",
    "axes[1,1].set_title(\"Distrinution of Messages\")\n",
    "axes[1,1].set_xlabel('hour')\n",
    "axes[1,1].set_ylabel('No. of Messages')\n",
    "\n",
    "plt.legend()"
   ]
  },
  {
   "cell_type": "code",
   "execution_count": null,
   "metadata": {},
   "outputs": [],
   "source": []
  }
 ],
 "metadata": {
  "kernelspec": {
   "display_name": "Python 3",
   "language": "python",
   "name": "python3"
  },
  "language_info": {
   "codemirror_mode": {
    "name": "ipython",
    "version": 3
   },
   "file_extension": ".py",
   "mimetype": "text/x-python",
   "name": "python",
   "nbconvert_exporter": "python",
   "pygments_lexer": "ipython3",
   "version": "3.9.0"
  }
 },
 "nbformat": 4,
 "nbformat_minor": 4
}
